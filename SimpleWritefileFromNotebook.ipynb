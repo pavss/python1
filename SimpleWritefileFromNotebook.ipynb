{
  "nbformat": 4,
  "nbformat_minor": 0,
  "metadata": {
    "colab": {
      "name": "Untitled1.ipynb",
      "provenance": [],
      "include_colab_link": true
    },
    "kernelspec": {
      "name": "python3",
      "display_name": "Python 3"
    },
    "language_info": {
      "name": "python"
    }
  },
  "cells": [
    {
      "cell_type": "markdown",
      "metadata": {
        "id": "view-in-github",
        "colab_type": "text"
      },
      "source": [
        "<a href=\"https://colab.research.google.com/github/pavss/python1/blob/main/SimpleWritefileFromNotebook.ipynb\" target=\"_parent\"><img src=\"https://colab.research.google.com/assets/colab-badge.svg\" alt=\"Open In Colab\"/></a>"
      ]
    },
    {
      "cell_type": "code",
      "source": [
        "%%writefile script_smaller.py \n",
        "def smaller()\n",
        "n1 = input('Insert first number:')\n",
        "n2 = input('Insert second number:')\n",
        "if n1>n2:\n",
        "print('The smaller number is {}'.format(n2))\n",
        "elif n1==n2:\n",
        "print('Both are Equal')\n",
        "else:\n",
        "print('The smaller number is {}'.format(n1))\n",
        "smaller()"
      ],
      "metadata": {
        "id": "lD7vATYMWdtx",
        "colab": {
          "base_uri": "https://localhost:8080/"
        },
        "outputId": "f633f55f-fa88-4432-eccf-539a5880f076"
      },
      "execution_count": 7,
      "outputs": [
        {
          "output_type": "stream",
          "name": "stdout",
          "text": [
            "Overwriting script_smaller.py\n"
          ]
        }
      ]
    },
    {
      "cell_type": "code",
      "source": [
        "%%writefile script_larger.py\n",
        "def larger()\n",
        "n1 = input('Insert first number:')\n",
        "n2 = input('Insert second number:')\n",
        "if n1>n2:\n",
        "print('The greater number is {}'.format(n1))\n",
        "elif n1==n2:\n",
        "print('Both are Equal')\n",
        "else:\n",
        "print('The greater number is{}'.format(n2))\n",
        "larger()"
      ],
      "metadata": {
        "id": "DqGZ4PYlYHQL",
        "colab": {
          "base_uri": "https://localhost:8080/",
          "height": 0
        },
        "outputId": "57174b8c-964f-4ed6-c42a-9f1b5ebd1bfe"
      },
      "execution_count": 6,
      "outputs": [
        {
          "output_type": "stream",
          "name": "stdout",
          "text": [
            "Writing script_larger.py\n"
          ]
        }
      ]
    }
  ]
}