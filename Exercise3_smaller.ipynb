{
  "nbformat": 4,
  "nbformat_minor": 0,
  "metadata": {
    "colab": {
      "provenance": [],
      "authorship_tag": "ABX9TyNAnSPu1q/ZzYs1IK7UVoE0",
      "include_colab_link": true
    },
    "kernelspec": {
      "name": "python3",
      "display_name": "Python 3"
    },
    "language_info": {
      "name": "python"
    }
  },
  "cells": [
    {
      "cell_type": "markdown",
      "metadata": {
        "id": "view-in-github",
        "colab_type": "text"
      },
      "source": [
        "<a href=\"https://colab.research.google.com/github/pavss/python1/blob/main/Exercise3_smaller.ipynb\" target=\"_parent\"><img src=\"https://colab.research.google.com/assets/colab-badge.svg\" alt=\"Open In Colab\"/></a>"
      ]
    },
    {
      "cell_type": "code",
      "execution_count": 9,
      "metadata": {
        "colab": {
          "base_uri": "https://localhost:8080/"
        },
        "id": "MbbvrXwNND51",
        "outputId": "b49217b2-63fe-4776-cba2-2441841a19cf"
      },
      "outputs": [
        {
          "output_type": "stream",
          "name": "stdout",
          "text": [
            "Insert first number:2\n",
            "Insert second number:5\n",
            "The greater number is5\n"
          ]
        }
      ],
      "source": [
        "def larger():\n",
        " n1 = input('Insert first number:')\n",
        " n2 = input('Insert second number:')\n",
        " if n1>n2:\n",
        "  print('The greater number is {}'.format(n1))\n",
        " elif n1==n2:\n",
        "  print('Both are Equal')\n",
        " else:\n",
        "  print('The greater number is{}'.format(n2))\n",
        "larger()"
      ]
    }
  ]
}