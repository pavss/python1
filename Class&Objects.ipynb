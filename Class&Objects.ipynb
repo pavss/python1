{
  "nbformat": 4,
  "nbformat_minor": 0,
  "metadata": {
    "colab": {
      "provenance": [],
      "authorship_tag": "ABX9TyNlWHX0Wtr3v8XSQYgP5oPh",
      "include_colab_link": true
    },
    "kernelspec": {
      "name": "python3",
      "display_name": "Python 3"
    },
    "language_info": {
      "name": "python"
    }
  },
  "cells": [
    {
      "cell_type": "markdown",
      "metadata": {
        "id": "view-in-github",
        "colab_type": "text"
      },
      "source": [
        "<a href=\"https://colab.research.google.com/github/pavss/python1/blob/main/Class%26Objects.ipynb\" target=\"_parent\"><img src=\"https://colab.research.google.com/assets/colab-badge.svg\" alt=\"Open In Colab\"/></a>"
      ]
    },
    {
      "cell_type": "code",
      "execution_count": 12,
      "metadata": {
        "colab": {
          "base_uri": "https://localhost:8080/"
        },
        "id": "yHjCbdAs34Ob",
        "outputId": "26e55134-3190-4e49-bf1b-5538a34e1925"
      },
      "outputs": [
        {
          "output_type": "stream",
          "name": "stdout",
          "text": [
            "Pavi\n",
            "123\n",
            "24000\n",
            "SQL\n"
          ]
        }
      ],
      "source": [
        "class person(object):\n",
        "  def __init__(self, name, id):\n",
        "    self.name = name\n",
        "    self.id = id\n",
        "\n",
        "  def display(self):\n",
        "    print(self.name)\n",
        "    print(self.id)\n",
        "\n",
        "class employee(person):\n",
        "    def __init__(self, name, id, salary,skills):\n",
        "      self.salary= salary\n",
        "      self.skills= skills\n",
        "      person.__init__(self, name, id)\n",
        "    def show(self):\n",
        "      print(self.salary)\n",
        "      print(self.skills)\n",
        "a = employee('Pavi', 123, 24000, 'SQL')\n",
        "a.display()\n",
        "a.show()"
      ]
    },
    {
      "cell_type": "code",
      "source": [
        "class student(person):\n",
        "    def __init__(self, name, id, marks, course):\n",
        "      self.marks= marks\n",
        "      self.course= course\n",
        "      person.__init__(self, name, id)\n",
        "    def show(self):\n",
        "      print(self.marks)\n",
        "      print(self.course)\n",
        "a = student('Pavi', 123, 94, 'MBA')\n",
        "a.display()\n",
        "a.show()\n",
        "       "
      ],
      "metadata": {
        "colab": {
          "base_uri": "https://localhost:8080/"
        },
        "id": "-Iyhidb16TKC",
        "outputId": "0cf3614a-daac-4e23-881e-d7328ca464a9"
      },
      "execution_count": 13,
      "outputs": [
        {
          "output_type": "stream",
          "name": "stdout",
          "text": [
            "Pavi\n",
            "123\n",
            "94\n",
            "MBA\n"
          ]
        }
      ]
    },
    {
      "cell_type": "code",
      "source": [
        "class teacher(person):\n",
        "    def __init__(self, name, id, experience):\n",
        "      self.experience = experience\n",
        "      person.__init__(self, name, id)\n",
        "    def show(self):\n",
        "      print(self.experience)\n",
        "a = teacher('Mary', 123, 'Ten years')\n",
        "a.display()\n",
        "a.show()"
      ],
      "metadata": {
        "colab": {
          "base_uri": "https://localhost:8080/"
        },
        "id": "K2VlwjT68784",
        "outputId": "e6be31ce-839b-4889-b18b-0fe1eef8f651"
      },
      "execution_count": 14,
      "outputs": [
        {
          "output_type": "stream",
          "name": "stdout",
          "text": [
            "Mary\n",
            "123\n",
            "Ten years\n"
          ]
        }
      ]
    }
  ]
}